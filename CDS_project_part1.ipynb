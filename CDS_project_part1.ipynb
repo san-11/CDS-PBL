{
  "cells": [
    {
      "cell_type": "markdown",
      "metadata": {
        "id": "sd6iFKF2gohh"
      },
      "source": [
        "# **CDS Project: Part 1**\n",
        "\n",
        "*Institute of Software Security (E22)*  \n",
        "*Hamburg University of Technology*  \n",
        "*SoSe 2023*\n",
        "\n",
        "## Learning objectives\n",
        "---\n",
        "\n",
        "- Use a basic Machine Learning (ML) pipeline with pre-trained models.\n",
        "- Build your own data loader.\n",
        "- Load and run a pre-trained ML model.\n",
        "- Evaluate the performance of an ML model.\n",
        "- Calculate and interpret performance metrics.\n",
        "\n",
        "## Materials\n",
        "---\n",
        "\n",
        "- Lecture Slides 1, 2, and 3.\n",
        "- PyTorch Documentation: [Datasets and Data Loaders](https://pytorch.org/tutorials/beginner/basics/data_tutorial.html)\n"
      ]
    },
    {
      "cell_type": "markdown",
      "metadata": {
        "id": "ybWt0W4gjbiC"
      },
      "source": [
        "## Project Description\n",
        "---\n",
        "\n",
        "In this project, you are given an ML model that is pre-trained on a vulnerability dataset. The dataset consists of code samples labeled with True or False flags, depending on the presence and absense of a vulnerability. Your goal is to use the pre-trained model to predict if the code samples in the validation set contain vulnerabilities or not and analyse the results. Please proceed to the below tasks."
      ]
    },
    {
      "cell_type": "markdown",
      "metadata": {
        "id": "IrciLvqNj96k"
      },
      "source": [
        "###*Task 1*\n",
        "\n",
        "Build a data loader for the validation dataset present in the following path: \"*data_students/student_dataset.hdf5*\". You will be using this dataset to validate the performance of the ML model. The dataset is in HDF5 binary data format. This format is used to store large amount of data. Make sure that you import and familiarise yourself with the right Python libraries to handle HDF5 files.\n"
      ]
    },
    {
      "cell_type": "code",
      "execution_count": 22,
      "metadata": {
        "id": "Eem6AZNyyXsn",
        "colab": {
          "base_uri": "https://localhost:8080/"
        },
        "outputId": "b7d0e374-dfd1-4745-984d-94b7ef1a9275"
      },
      "outputs": [
        {
          "output_type": "stream",
          "name": "stdout",
          "text": [
            "Dataset loaded successfully!\n",
            "Total samples: 1000\n"
          ]
        }
      ],
      "source": [
        "# Import necessary libraries\n",
        "import h5py\n",
        "import numpy as np\n",
        "import pandas as pd\n",
        "import torch\n",
        "from torch.utils.data import Dataset, DataLoader\n",
        "import random\n",
        "\n",
        "# Define custom dataset class\n",
        "class VulnerabilityDataset(Dataset):\n",
        "    def __init__(self, file_path):\n",
        "        with h5py.File('data/student_dataset.hdf5', 'r') as f:\n",
        "            self.labels = np.array(f['labels'])\n",
        "            self.vectors = np.array(f['vectors'])\n",
        "            self.sources = np.array(f['source'])\n",
        "\n",
        "        # Reshape vectors from (1000,1,768) to (1000,768)\n",
        "        self.vectors = self.vectors.reshape(self.vectors.shape[0], -1)\n",
        "\n",
        "    def __len__(self):\n",
        "        return len(self.labels)\n",
        "\n",
        "    def __getitem__(self, idx):\n",
        "        vector = torch.tensor(self.vectors[idx], dtype=torch.float32)\n",
        "        label = torch.tensor(self.labels[idx], dtype=torch.float32)\n",
        "        return vector, label\n",
        "\n",
        "# Load the dataset\n",
        "dataset = VulnerabilityDataset(\"data/student_dataset.hdf5\")\n",
        "print(\"Dataset loaded successfully!\")\n",
        "print(f\"Total samples: {len(dataset)}\")"
      ]
    },
    {
      "cell_type": "markdown",
      "metadata": {
        "id": "ARwcBrbFlMu8"
      },
      "source": [
        "###*Task 2*\n",
        "\n",
        "Generate a table with 10 random samples from the dataset and show their corresponding labels."
      ]
    },
    {
      "cell_type": "code",
      "source": [
        "# Create a DataFrame to display samples\n",
        "random_indices = random.sample(range(len(dataset)), 10)\n",
        "samples = []\n",
        "\n",
        "for idx in random_indices:\n",
        "    vector, label = dataset[idx]\n",
        "    samples.append({\n",
        "        'Index': idx,\n",
        "        'Source Length': len(dataset.sources[idx]),\n",
        "        'Vector Shape': vector.shape,\n",
        "        'Label': 'Vulnerable' if label.item() == 1 else 'Not Vulnerable'\n",
        "    })\n",
        "\n",
        "pd.DataFrame(samples)"
      ],
      "metadata": {
        "colab": {
          "base_uri": "https://localhost:8080/",
          "height": 363
        },
        "id": "eayf4xl3WjCQ",
        "outputId": "c1f8db43-1f33-4d4c-b71a-cbc38ccd9a29"
      },
      "execution_count": 23,
      "outputs": [
        {
          "output_type": "execute_result",
          "data": {
            "text/plain": [
              "   Index  Source Length Vector Shape           Label\n",
              "0    195           1055       (768,)  Not Vulnerable\n",
              "1    325            166       (768,)  Not Vulnerable\n",
              "2    226           3738       (768,)      Vulnerable\n",
              "3    448            685       (768,)  Not Vulnerable\n",
              "4    600            233       (768,)  Not Vulnerable\n",
              "5    766           1724       (768,)      Vulnerable\n",
              "6    182           1149       (768,)      Vulnerable\n",
              "7    939            876       (768,)      Vulnerable\n",
              "8    740           1395       (768,)  Not Vulnerable\n",
              "9    134           2171       (768,)      Vulnerable"
            ],
            "text/html": [
              "\n",
              "  <div id=\"df-29f191bb-9b70-442a-984a-88c1bdc21aff\" class=\"colab-df-container\">\n",
              "    <div>\n",
              "<style scoped>\n",
              "    .dataframe tbody tr th:only-of-type {\n",
              "        vertical-align: middle;\n",
              "    }\n",
              "\n",
              "    .dataframe tbody tr th {\n",
              "        vertical-align: top;\n",
              "    }\n",
              "\n",
              "    .dataframe thead th {\n",
              "        text-align: right;\n",
              "    }\n",
              "</style>\n",
              "<table border=\"1\" class=\"dataframe\">\n",
              "  <thead>\n",
              "    <tr style=\"text-align: right;\">\n",
              "      <th></th>\n",
              "      <th>Index</th>\n",
              "      <th>Source Length</th>\n",
              "      <th>Vector Shape</th>\n",
              "      <th>Label</th>\n",
              "    </tr>\n",
              "  </thead>\n",
              "  <tbody>\n",
              "    <tr>\n",
              "      <th>0</th>\n",
              "      <td>195</td>\n",
              "      <td>1055</td>\n",
              "      <td>(768,)</td>\n",
              "      <td>Not Vulnerable</td>\n",
              "    </tr>\n",
              "    <tr>\n",
              "      <th>1</th>\n",
              "      <td>325</td>\n",
              "      <td>166</td>\n",
              "      <td>(768,)</td>\n",
              "      <td>Not Vulnerable</td>\n",
              "    </tr>\n",
              "    <tr>\n",
              "      <th>2</th>\n",
              "      <td>226</td>\n",
              "      <td>3738</td>\n",
              "      <td>(768,)</td>\n",
              "      <td>Vulnerable</td>\n",
              "    </tr>\n",
              "    <tr>\n",
              "      <th>3</th>\n",
              "      <td>448</td>\n",
              "      <td>685</td>\n",
              "      <td>(768,)</td>\n",
              "      <td>Not Vulnerable</td>\n",
              "    </tr>\n",
              "    <tr>\n",
              "      <th>4</th>\n",
              "      <td>600</td>\n",
              "      <td>233</td>\n",
              "      <td>(768,)</td>\n",
              "      <td>Not Vulnerable</td>\n",
              "    </tr>\n",
              "    <tr>\n",
              "      <th>5</th>\n",
              "      <td>766</td>\n",
              "      <td>1724</td>\n",
              "      <td>(768,)</td>\n",
              "      <td>Vulnerable</td>\n",
              "    </tr>\n",
              "    <tr>\n",
              "      <th>6</th>\n",
              "      <td>182</td>\n",
              "      <td>1149</td>\n",
              "      <td>(768,)</td>\n",
              "      <td>Vulnerable</td>\n",
              "    </tr>\n",
              "    <tr>\n",
              "      <th>7</th>\n",
              "      <td>939</td>\n",
              "      <td>876</td>\n",
              "      <td>(768,)</td>\n",
              "      <td>Vulnerable</td>\n",
              "    </tr>\n",
              "    <tr>\n",
              "      <th>8</th>\n",
              "      <td>740</td>\n",
              "      <td>1395</td>\n",
              "      <td>(768,)</td>\n",
              "      <td>Not Vulnerable</td>\n",
              "    </tr>\n",
              "    <tr>\n",
              "      <th>9</th>\n",
              "      <td>134</td>\n",
              "      <td>2171</td>\n",
              "      <td>(768,)</td>\n",
              "      <td>Vulnerable</td>\n",
              "    </tr>\n",
              "  </tbody>\n",
              "</table>\n",
              "</div>\n",
              "    <div class=\"colab-df-buttons\">\n",
              "\n",
              "  <div class=\"colab-df-container\">\n",
              "    <button class=\"colab-df-convert\" onclick=\"convertToInteractive('df-29f191bb-9b70-442a-984a-88c1bdc21aff')\"\n",
              "            title=\"Convert this dataframe to an interactive table.\"\n",
              "            style=\"display:none;\">\n",
              "\n",
              "  <svg xmlns=\"http://www.w3.org/2000/svg\" height=\"24px\" viewBox=\"0 -960 960 960\">\n",
              "    <path d=\"M120-120v-720h720v720H120Zm60-500h600v-160H180v160Zm220 220h160v-160H400v160Zm0 220h160v-160H400v160ZM180-400h160v-160H180v160Zm440 0h160v-160H620v160ZM180-180h160v-160H180v160Zm440 0h160v-160H620v160Z\"/>\n",
              "  </svg>\n",
              "    </button>\n",
              "\n",
              "  <style>\n",
              "    .colab-df-container {\n",
              "      display:flex;\n",
              "      gap: 12px;\n",
              "    }\n",
              "\n",
              "    .colab-df-convert {\n",
              "      background-color: #E8F0FE;\n",
              "      border: none;\n",
              "      border-radius: 50%;\n",
              "      cursor: pointer;\n",
              "      display: none;\n",
              "      fill: #1967D2;\n",
              "      height: 32px;\n",
              "      padding: 0 0 0 0;\n",
              "      width: 32px;\n",
              "    }\n",
              "\n",
              "    .colab-df-convert:hover {\n",
              "      background-color: #E2EBFA;\n",
              "      box-shadow: 0px 1px 2px rgba(60, 64, 67, 0.3), 0px 1px 3px 1px rgba(60, 64, 67, 0.15);\n",
              "      fill: #174EA6;\n",
              "    }\n",
              "\n",
              "    .colab-df-buttons div {\n",
              "      margin-bottom: 4px;\n",
              "    }\n",
              "\n",
              "    [theme=dark] .colab-df-convert {\n",
              "      background-color: #3B4455;\n",
              "      fill: #D2E3FC;\n",
              "    }\n",
              "\n",
              "    [theme=dark] .colab-df-convert:hover {\n",
              "      background-color: #434B5C;\n",
              "      box-shadow: 0px 1px 3px 1px rgba(0, 0, 0, 0.15);\n",
              "      filter: drop-shadow(0px 1px 2px rgba(0, 0, 0, 0.3));\n",
              "      fill: #FFFFFF;\n",
              "    }\n",
              "  </style>\n",
              "\n",
              "    <script>\n",
              "      const buttonEl =\n",
              "        document.querySelector('#df-29f191bb-9b70-442a-984a-88c1bdc21aff button.colab-df-convert');\n",
              "      buttonEl.style.display =\n",
              "        google.colab.kernel.accessAllowed ? 'block' : 'none';\n",
              "\n",
              "      async function convertToInteractive(key) {\n",
              "        const element = document.querySelector('#df-29f191bb-9b70-442a-984a-88c1bdc21aff');\n",
              "        const dataTable =\n",
              "          await google.colab.kernel.invokeFunction('convertToInteractive',\n",
              "                                                    [key], {});\n",
              "        if (!dataTable) return;\n",
              "\n",
              "        const docLinkHtml = 'Like what you see? Visit the ' +\n",
              "          '<a target=\"_blank\" href=https://colab.research.google.com/notebooks/data_table.ipynb>data table notebook</a>'\n",
              "          + ' to learn more about interactive tables.';\n",
              "        element.innerHTML = '';\n",
              "        dataTable['output_type'] = 'display_data';\n",
              "        await google.colab.output.renderOutput(dataTable, element);\n",
              "        const docLink = document.createElement('div');\n",
              "        docLink.innerHTML = docLinkHtml;\n",
              "        element.appendChild(docLink);\n",
              "      }\n",
              "    </script>\n",
              "  </div>\n",
              "\n",
              "\n",
              "    <div id=\"df-03f4edd5-b1bb-4d91-8f4e-506af6c0167c\">\n",
              "      <button class=\"colab-df-quickchart\" onclick=\"quickchart('df-03f4edd5-b1bb-4d91-8f4e-506af6c0167c')\"\n",
              "                title=\"Suggest charts\"\n",
              "                style=\"display:none;\">\n",
              "\n",
              "<svg xmlns=\"http://www.w3.org/2000/svg\" height=\"24px\"viewBox=\"0 0 24 24\"\n",
              "     width=\"24px\">\n",
              "    <g>\n",
              "        <path d=\"M19 3H5c-1.1 0-2 .9-2 2v14c0 1.1.9 2 2 2h14c1.1 0 2-.9 2-2V5c0-1.1-.9-2-2-2zM9 17H7v-7h2v7zm4 0h-2V7h2v10zm4 0h-2v-4h2v4z\"/>\n",
              "    </g>\n",
              "</svg>\n",
              "      </button>\n",
              "\n",
              "<style>\n",
              "  .colab-df-quickchart {\n",
              "      --bg-color: #E8F0FE;\n",
              "      --fill-color: #1967D2;\n",
              "      --hover-bg-color: #E2EBFA;\n",
              "      --hover-fill-color: #174EA6;\n",
              "      --disabled-fill-color: #AAA;\n",
              "      --disabled-bg-color: #DDD;\n",
              "  }\n",
              "\n",
              "  [theme=dark] .colab-df-quickchart {\n",
              "      --bg-color: #3B4455;\n",
              "      --fill-color: #D2E3FC;\n",
              "      --hover-bg-color: #434B5C;\n",
              "      --hover-fill-color: #FFFFFF;\n",
              "      --disabled-bg-color: #3B4455;\n",
              "      --disabled-fill-color: #666;\n",
              "  }\n",
              "\n",
              "  .colab-df-quickchart {\n",
              "    background-color: var(--bg-color);\n",
              "    border: none;\n",
              "    border-radius: 50%;\n",
              "    cursor: pointer;\n",
              "    display: none;\n",
              "    fill: var(--fill-color);\n",
              "    height: 32px;\n",
              "    padding: 0;\n",
              "    width: 32px;\n",
              "  }\n",
              "\n",
              "  .colab-df-quickchart:hover {\n",
              "    background-color: var(--hover-bg-color);\n",
              "    box-shadow: 0 1px 2px rgba(60, 64, 67, 0.3), 0 1px 3px 1px rgba(60, 64, 67, 0.15);\n",
              "    fill: var(--button-hover-fill-color);\n",
              "  }\n",
              "\n",
              "  .colab-df-quickchart-complete:disabled,\n",
              "  .colab-df-quickchart-complete:disabled:hover {\n",
              "    background-color: var(--disabled-bg-color);\n",
              "    fill: var(--disabled-fill-color);\n",
              "    box-shadow: none;\n",
              "  }\n",
              "\n",
              "  .colab-df-spinner {\n",
              "    border: 2px solid var(--fill-color);\n",
              "    border-color: transparent;\n",
              "    border-bottom-color: var(--fill-color);\n",
              "    animation:\n",
              "      spin 1s steps(1) infinite;\n",
              "  }\n",
              "\n",
              "  @keyframes spin {\n",
              "    0% {\n",
              "      border-color: transparent;\n",
              "      border-bottom-color: var(--fill-color);\n",
              "      border-left-color: var(--fill-color);\n",
              "    }\n",
              "    20% {\n",
              "      border-color: transparent;\n",
              "      border-left-color: var(--fill-color);\n",
              "      border-top-color: var(--fill-color);\n",
              "    }\n",
              "    30% {\n",
              "      border-color: transparent;\n",
              "      border-left-color: var(--fill-color);\n",
              "      border-top-color: var(--fill-color);\n",
              "      border-right-color: var(--fill-color);\n",
              "    }\n",
              "    40% {\n",
              "      border-color: transparent;\n",
              "      border-right-color: var(--fill-color);\n",
              "      border-top-color: var(--fill-color);\n",
              "    }\n",
              "    60% {\n",
              "      border-color: transparent;\n",
              "      border-right-color: var(--fill-color);\n",
              "    }\n",
              "    80% {\n",
              "      border-color: transparent;\n",
              "      border-right-color: var(--fill-color);\n",
              "      border-bottom-color: var(--fill-color);\n",
              "    }\n",
              "    90% {\n",
              "      border-color: transparent;\n",
              "      border-bottom-color: var(--fill-color);\n",
              "    }\n",
              "  }\n",
              "</style>\n",
              "\n",
              "      <script>\n",
              "        async function quickchart(key) {\n",
              "          const quickchartButtonEl =\n",
              "            document.querySelector('#' + key + ' button');\n",
              "          quickchartButtonEl.disabled = true;  // To prevent multiple clicks.\n",
              "          quickchartButtonEl.classList.add('colab-df-spinner');\n",
              "          try {\n",
              "            const charts = await google.colab.kernel.invokeFunction(\n",
              "                'suggestCharts', [key], {});\n",
              "          } catch (error) {\n",
              "            console.error('Error during call to suggestCharts:', error);\n",
              "          }\n",
              "          quickchartButtonEl.classList.remove('colab-df-spinner');\n",
              "          quickchartButtonEl.classList.add('colab-df-quickchart-complete');\n",
              "        }\n",
              "        (() => {\n",
              "          let quickchartButtonEl =\n",
              "            document.querySelector('#df-03f4edd5-b1bb-4d91-8f4e-506af6c0167c button');\n",
              "          quickchartButtonEl.style.display =\n",
              "            google.colab.kernel.accessAllowed ? 'block' : 'none';\n",
              "        })();\n",
              "      </script>\n",
              "    </div>\n",
              "\n",
              "    </div>\n",
              "  </div>\n"
            ],
            "application/vnd.google.colaboratory.intrinsic+json": {
              "type": "dataframe",
              "summary": "{\n  \"name\": \"pd\",\n  \"rows\": 10,\n  \"fields\": [\n    {\n      \"column\": \"Index\",\n      \"properties\": {\n        \"dtype\": \"number\",\n        \"std\": 288,\n        \"min\": 134,\n        \"max\": 939,\n        \"num_unique_values\": 10,\n        \"samples\": [\n          740,\n          325,\n          766\n        ],\n        \"semantic_type\": \"\",\n        \"description\": \"\"\n      }\n    },\n    {\n      \"column\": \"Source Length\",\n      \"properties\": {\n        \"dtype\": \"number\",\n        \"std\": 1051,\n        \"min\": 166,\n        \"max\": 3738,\n        \"num_unique_values\": 10,\n        \"samples\": [\n          1395,\n          166,\n          1724\n        ],\n        \"semantic_type\": \"\",\n        \"description\": \"\"\n      }\n    },\n    {\n      \"column\": \"Vector Shape\",\n      \"properties\": {\n        \"dtype\": \"category\",\n        \"num_unique_values\": 1,\n        \"samples\": [\n          [\n            768\n          ]\n        ],\n        \"semantic_type\": \"\",\n        \"description\": \"\"\n      }\n    },\n    {\n      \"column\": \"Label\",\n      \"properties\": {\n        \"dtype\": \"category\",\n        \"num_unique_values\": 2,\n        \"samples\": [\n          \"Vulnerable\"\n        ],\n        \"semantic_type\": \"\",\n        \"description\": \"\"\n      }\n    }\n  ]\n}"
            }
          },
          "metadata": {},
          "execution_count": 23
        }
      ]
    },
    {
      "cell_type": "markdown",
      "metadata": {
        "id": "da5YCWVkmUL2"
      },
      "source": [
        "###*Task 3*\n",
        "\n",
        "Inspect the dataset and answer the following questions:\n",
        "1.  How many samples are in the dataset?\n",
        "2. How many positive examples (vulnerability-labeled instances) are in the dataset?\n",
        "3. What is the vulnerable/non-vulnerable ratio?"
      ]
    },
    {
      "cell_type": "code",
      "execution_count": 24,
      "metadata": {
        "id": "LDpozMCfnnJg",
        "colab": {
          "base_uri": "https://localhost:8080/"
        },
        "outputId": "fbec5291-e8fc-400d-b551-bc84c5a70b4e"
      },
      "outputs": [
        {
          "output_type": "stream",
          "name": "stdout",
          "text": [
            "1. Total samples in dataset: 1000\n",
            "2. Positive examples (vulnerable): 283\n",
            "3. Vulnerable/Non-vulnerable ratio: 0.39:1\n"
          ]
        }
      ],
      "source": [
        "# TODO: inspect and understand the loaded dataset\n",
        "\n",
        "# Calculate dataset statistics\n",
        "total_samples = len(dataset)\n",
        "positive_samples = sum(dataset.labels)\n",
        "negative_samples = total_samples - positive_samples\n",
        "ratio = positive_samples / negative_samples\n",
        "\n",
        "print(f\"1. Total samples in dataset: {total_samples}\")\n",
        "print(f\"2. Positive examples (vulnerable): {positive_samples}\")\n",
        "print(f\"3. Vulnerable/Non-vulnerable ratio: {ratio:.2f}:1\")"
      ]
    },
    {
      "cell_type": "markdown",
      "metadata": {
        "id": "UivWlO3dnngr"
      },
      "source": [
        "###*Task 4*\n",
        "\n",
        "Load and run the following pre-trained neural network model called VulnPredictionModel."
      ]
    },
    {
      "cell_type": "markdown",
      "metadata": {
        "id": "3Jex8XdkFJhb"
      },
      "source": [
        "``` python\n",
        "device = \"cuda\" if torch.cuda.is_available() else \"cpu\"\n",
        "print(f\"Using {device} device\")\n",
        "\n",
        "```"
      ]
    },
    {
      "cell_type": "code",
      "source": [
        "from torch import nn\n",
        "\n",
        "device = \"cuda\" if torch.cuda.is_available() else \"cpu\"\n",
        "print(f\"Using {device} device\")\n",
        "\n",
        "class VulnPredictModel(nn.Module):\n",
        "    def __init__(self):\n",
        "        super().__init__()\n",
        "        self.flatten = nn.Flatten()\n",
        "        self.linear_stack = nn.Sequential(\n",
        "            nn.Linear(768, 64),\n",
        "            nn.ReLU(),\n",
        "            nn.Linear(64, 64),\n",
        "            nn.ReLU(),\n",
        "            nn.Linear(64, 1),\n",
        "            nn.Sigmoid()\n",
        "        )\n",
        "\n",
        "    def forward(self, x):\n",
        "        x = self.flatten(x)\n",
        "        pred = self.linear_stack(x)\n",
        "        return pred\n",
        "\n",
        "# Initialize and load the model\n",
        "model = VulnPredictModel().to(device)\n",
        "model.load_state_dict(torch.load(\"model_2023-03-28_20-03.pth\"))\n",
        "model.eval()\n",
        "print(\"Model loaded successfully!\")"
      ],
      "metadata": {
        "colab": {
          "base_uri": "https://localhost:8080/"
        },
        "id": "6I3bi8pFXhGw",
        "outputId": "a8a19aec-76d5-4a0e-c1fa-8ba6d28009f9"
      },
      "execution_count": 25,
      "outputs": [
        {
          "output_type": "stream",
          "name": "stdout",
          "text": [
            "Using cuda device\n",
            "Model loaded successfully!\n"
          ]
        }
      ]
    },
    {
      "cell_type": "markdown",
      "metadata": {
        "id": "-A9M9ID0n2Gx"
      },
      "source": [
        "###*Task 5*\n",
        "\n",
        "Make a prediction on the provided dataset and compute the following values:\n",
        "- True Positives\n",
        "- True Negatives\n",
        "- False Positives\n",
        "- False Negatives"
      ]
    },
    {
      "cell_type": "code",
      "execution_count": 26,
      "metadata": {
        "id": "R8KdeQ2Rn-2Z",
        "colab": {
          "base_uri": "https://localhost:8080/"
        },
        "outputId": "0322de16-ee02-42fc-bbd3-216f25b9f2c9"
      },
      "outputs": [
        {
          "output_type": "stream",
          "name": "stdout",
          "text": [
            "True Positives: 94\n",
            "True Negatives: 704\n",
            "False Positives: 13\n",
            "False Negatives: 189\n"
          ]
        }
      ],
      "source": [
        "# Create data loader\n",
        "data_loader = DataLoader(dataset, batch_size=32, shuffle=False)\n",
        "\n",
        "# Initialize counters\n",
        "true_pos = 0\n",
        "true_neg = 0\n",
        "false_pos = 0\n",
        "false_neg = 0\n",
        "\n",
        "# Make predictions\n",
        "with torch.no_grad():\n",
        "    for vectors, labels in data_loader:\n",
        "        vectors, labels = vectors.to(device), labels.to(device)\n",
        "        outputs = model(vectors)\n",
        "        predictions = (outputs > 0.3).float().squeeze()  # Added squeeze() for proper shape\n",
        "\n",
        "        # Convert to numpy for easier counting\n",
        "        predictions = predictions.cpu().numpy()\n",
        "        labels = labels.cpu().numpy()\n",
        "\n",
        "        # Update counters (fixed logic)\n",
        "        true_pos += np.sum((predictions == 1) & (labels == 1))\n",
        "        true_neg += np.sum((predictions == 0) & (labels == 0))\n",
        "        false_pos += np.sum((predictions == 1) & (labels == 0))\n",
        "        false_neg += np.sum((predictions == 0) & (labels == 1))\n",
        "\n",
        "print(f\"True Positives: {true_pos}\")\n",
        "print(f\"True Negatives: {true_neg}\")\n",
        "print(f\"False Positives: {false_pos}\")\n",
        "print(f\"False Negatives: {false_neg}\")"
      ]
    },
    {
      "cell_type": "markdown",
      "metadata": {
        "id": "TaFHwiVwow7s"
      },
      "source": [
        "### *Task 6*\n",
        "\n",
        "Compute the corresponding performance metrics **manually** (do not use PyTorch's predefined metrics):\n",
        "- Accuracy\n",
        "- Precision\n",
        "- Recall\n",
        "- F1"
      ]
    },
    {
      "cell_type": "code",
      "execution_count": 27,
      "metadata": {
        "id": "KE2daH3LpGEc",
        "colab": {
          "base_uri": "https://localhost:8080/"
        },
        "outputId": "6a2d9c09-ce74-4584-f8a5-77a33f3fce2b"
      },
      "outputs": [
        {
          "output_type": "stream",
          "name": "stdout",
          "text": [
            "Accuracy: 0.7980 (79.80%)\n",
            "Precision: 0.8785\n",
            "Recall: 0.3322\n",
            "F1 Score: 0.4821\n"
          ]
        }
      ],
      "source": [
        "# Calculate metrics manually\n",
        "accuracy = (true_pos + true_neg) / (true_pos + true_neg + false_pos + false_neg)\n",
        "precision = true_pos / (true_pos + false_pos) if (true_pos + false_pos) > 0 else 0\n",
        "recall = true_pos / (true_pos + false_neg) if (true_pos + false_neg) > 0 else 0\n",
        "f1 = 2 * (precision * recall) / (precision + recall) if (precision + recall) > 0 else 0\n",
        "\n",
        "print(f\"Accuracy: {accuracy:.4f} ({(accuracy*100):.2f}%)\")\n",
        "print(f\"Precision: {precision:.4f}\")\n",
        "print(f\"Recall: {recall:.4f}\")\n",
        "print(f\"F1 Score: {f1:.4f}\")\n",
        "\n"
      ]
    },
    {
      "cell_type": "markdown",
      "metadata": {
        "id": "kdIkKUPlpGjv"
      },
      "source": [
        "### *Task 7*\n",
        "\n",
        "Based on your performance metrics, answer the following questions:\n",
        "\n",
        "- Explain the impact of accuracy vs. F1 score.\n",
        "- In this particular problem, which metric one should focus more on?\n",
        "- Is there a better metric suitable for the use case of vulnerability prediction? Why?\n"
      ]
    },
    {
      "cell_type": "markdown",
      "source": [
        "## Task 7: Performance Metrics Analysis\n",
        "\n",
        "### Accuracy vs. F1 Score Impact\n",
        "- **Accuracy** measures overall correctness but can be misleading with imbalanced datasets\n",
        "- **F1 Score** balances precision and recall, better for imbalanced cases like vulnerability detection\n",
        "\n",
        "### Key Metric Focus\n",
        "For vulnerability prediction, **recall** (true positive rate) is most critical because:\n",
        "- Missing vulnerabilities (false negatives) is more dangerous than false alarms\n",
        "- Security applications prioritize catching all potential threats\n",
        "\n",
        "### Better Metrics for Vulnerability Prediction\n",
        "The **F2 Score** (weights recall higher than precision) would be even better because:\n",
        "1. It emphasizes reducing false negatives\n",
        "2. In security contexts, false negatives are more costly than false positives."
      ],
      "metadata": {
        "id": "J7-wWgA2ZI-Q"
      }
    },
    {
      "cell_type": "code",
      "source": [],
      "metadata": {
        "id": "JozfVRwtZKJA"
      },
      "execution_count": null,
      "outputs": []
    }
  ],
  "metadata": {
    "colab": {
      "provenance": [],
      "gpuType": "T4"
    },
    "kernelspec": {
      "display_name": "Python 3",
      "name": "python3"
    },
    "language_info": {
      "codemirror_mode": {
        "name": "ipython",
        "version": 3
      },
      "file_extension": ".py",
      "mimetype": "text/x-python",
      "name": "python",
      "nbconvert_exporter": "python",
      "pygments_lexer": "ipython3",
      "version": "3.9.18"
    },
    "accelerator": "GPU"
  },
  "nbformat": 4,
  "nbformat_minor": 0
}